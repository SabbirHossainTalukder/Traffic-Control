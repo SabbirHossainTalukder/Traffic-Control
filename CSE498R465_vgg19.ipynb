{
  "nbformat": 4,
  "nbformat_minor": 0,
  "metadata": {
    "colab": {
      "name": "CSE498R465_vgg16.ipynb",
      "provenance": [],
      "collapsed_sections": [],
      "private_outputs": true
    },
    "kernelspec": {
      "name": "python3",
      "display_name": "Python 3"
    },
    "language_info": {
      "name": "python"
    },
    "accelerator": "GPU"
  },
  "cells": [
    {
      "cell_type": "markdown",
      "source": [
        "#***Data Processing***"
      ],
      "metadata": {
        "id": "nBlRyht0WwRy"
      }
    },
    {
      "cell_type": "code",
      "execution_count": null,
      "metadata": {
        "id": "dKKB6mTYWYlz"
      },
      "outputs": [],
      "source": [
        "import numpy as np\n",
        "import pandas as pd\n",
        "import os\n",
        "import glob\n",
        "import random\n",
        "from PIL import Image"
      ]
    },
    {
      "cell_type": "code",
      "source": [
        "from google.colab import drive\n",
        "drive.mount('/content/drive',force_remount=True)"
      ],
      "metadata": {
        "id": "LZwXbnweWlnk"
      },
      "execution_count": null,
      "outputs": []
    },
    {
      "cell_type": "code",
      "source": [
        "vehicle_data_path = \"/content/drive/MyDrive/NativeCarDataset\"\n",
        "os.listdir(vehicle_data_path)"
      ],
      "metadata": {
        "id": "85h87yy1WuTl"
      },
      "execution_count": null,
      "outputs": []
    },
    {
      "cell_type": "code",
      "source": [
        "paths_train=glob.glob(os.path.join(vehicle_data_path,'train/*/*','*.jpg'))\n",
        "paths_train_xml=glob.glob(os.path.join(vehicle_data_path,'train/*/*','*'))\n",
        "\n",
        "paths_test=glob.glob(os.path.join(vehicle_data_path,'test/*/*','*.jpg'))\n",
        "paths_test_xml=glob.glob(os.path.join(vehicle_data_path,'test/*/*','*'))\n",
        "\n",
        "len(paths_train), len(paths_train_xml), len(paths_test),len(paths_test_xml)"
      ],
      "metadata": {
        "id": "OVlw2FTDW5H6"
      },
      "execution_count": null,
      "outputs": []
    },
    {
      "cell_type": "markdown",
      "source": [
        "#***Image Classification***"
      ],
      "metadata": {
        "id": "kEc7gbhbX4L1"
      }
    },
    {
      "cell_type": "code",
      "source": [
        "import tensorflow as tf\n",
        "from keras.models import Model\n",
        "from keras.applications.vgg19 import VGG19\n",
        "from keras.applications.vgg19 import preprocess_input\n",
        "from keras.preprocessing import image\n",
        "from keras.preprocessing.image import ImageDataGenerator\n",
        "from keras.models import Sequential\n",
        "import cv2\n",
        "import matplotlib.pyplot as plt\n",
        "from keras.layers import Input, Lambda, Dense, Flatten"
      ],
      "metadata": {
        "id": "LaufpIdAX1QG"
      },
      "execution_count": null,
      "outputs": []
    },
    {
      "cell_type": "code",
      "source": [
        "IMAGE_SIZE = [224, 224]"
      ],
      "metadata": {
        "id": "iClIvpsHYES1"
      },
      "execution_count": null,
      "outputs": []
    },
    {
      "cell_type": "code",
      "source": [
        "vgg = VGG19(input_shape=IMAGE_SIZE +[3], weights='imagenet', include_top=False)"
      ],
      "metadata": {
        "id": "lPl6oRb6YG-3"
      },
      "execution_count": null,
      "outputs": []
    },
    {
      "cell_type": "code",
      "source": [
        "for layer in vgg.layers:\n",
        "    layer.trainable=False"
      ],
      "metadata": {
        "id": "IbkeZlu2YJvz"
      },
      "execution_count": null,
      "outputs": []
    },
    {
      "cell_type": "code",
      "source": [
        "folders = glob.glob(os.path.join(vehicle_data_path,'train/*'))"
      ],
      "metadata": {
        "id": "eqj1m5EyYQP1"
      },
      "execution_count": null,
      "outputs": []
    },
    {
      "cell_type": "code",
      "source": [
        "x= Flatten()(vgg.output)\n",
        "x= Dense(64, activation= 'relu')(x)\n",
        "prediction = Dense(len(folders), activation='softmax')(x)"
      ],
      "metadata": {
        "id": "G6pkUqvzYTDt"
      },
      "execution_count": null,
      "outputs": []
    },
    {
      "cell_type": "code",
      "source": [
        "model = Model(inputs=vgg.input, outputs=prediction)"
      ],
      "metadata": {
        "id": "iz4sr73yYhhS"
      },
      "execution_count": null,
      "outputs": []
    },
    {
      "cell_type": "code",
      "source": [
        "model.summary()"
      ],
      "metadata": {
        "id": "Ewmyf7y1Yl2G"
      },
      "execution_count": null,
      "outputs": []
    },
    {
      "cell_type": "code",
      "source": [
        "model.compile(\n",
        "    loss='categorical_crossentropy',\n",
        "    optimizer='adam',\n",
        "    metrics=['accuracy']\n",
        ")"
      ],
      "metadata": {
        "id": "d6TO1M3bYowY"
      },
      "execution_count": null,
      "outputs": []
    },
    {
      "cell_type": "code",
      "source": [
        "from keras.preprocessing.image import ImageDataGenerator\n",
        "train_datagen =ImageDataGenerator(rescale = 1./255,\n",
        "                                 shear_range = 0.2,\n",
        "                                 zoom_range = 0.2,\n",
        "                                 horizontal_flip = True)\n",
        "test_datagen = ImageDataGenerator(rescale = 1./255)\n",
        "training_set = train_datagen.flow_from_directory('/content/drive/MyDrive/NativeCarDataset/train',\n",
        "                                                target_size=IMAGE_SIZE,\n",
        "                                                batch_size= 64,\n",
        "                                                class_mode='categorical')\n",
        "test_set = test_datagen.flow_from_directory('/content/drive/MyDrive/NativeCarDataset/test',\n",
        "                                           target_size= IMAGE_SIZE,\n",
        "                                           batch_size = 64,\n",
        "                                           class_mode = 'categorical')"
      ],
      "metadata": {
        "id": "YepBhKmAYsaC"
      },
      "execution_count": null,
      "outputs": []
    },
    {
      "cell_type": "code",
      "source": [
        "len(training_set), len(test_set)"
      ],
      "metadata": {
        "id": "O2LZ1GKFYyUw"
      },
      "execution_count": null,
      "outputs": []
    },
    {
      "cell_type": "code",
      "source": [
        "device_list = tf.test.gpu_device_name()\n",
        "device_list"
      ],
      "metadata": {
        "id": "tiW_wj8SY0wn"
      },
      "execution_count": null,
      "outputs": []
    },
    {
      "cell_type": "code",
      "source": [
        "from keras.preprocessing.image import ImageDataGenerator\n",
        "import tensorflow as tf\n",
        "r = model.fit_generator(\n",
        "  training_set,\n",
        "  validation_data=test_set,\n",
        "  epochs=30,\n",
        "  steps_per_epoch=50,\n",
        "  validation_steps=len(test_set)\n",
        ")"
      ],
      "metadata": {
        "id": "dX4M_NpZY5dA"
      },
      "execution_count": null,
      "outputs": []
    },
    {
      "cell_type": "code",
      "source": [
        "plt.plot(r.history['loss'], label='train loss')\n",
        "plt.plot(r.history['val_loss'], label='val loss')\n",
        "plt.legend()\n",
        "plt.show()\n",
        "plt.savefig('LossVal_loss')\n",
        "\n",
        "plt.plot(r.history['accuracy'], label='train accuracy')\n",
        "plt.plot(r.history['val_accuracy'], label='val accuracy')\n",
        "plt.legend()\n",
        "plt.show()\n",
        "plt.savefig('AccVal_acc')"
      ],
      "metadata": {
        "id": "f-v6jAABY89I"
      },
      "execution_count": null,
      "outputs": []
    },
    {
      "cell_type": "code",
      "source": [
        "import tensorflow as tf \n",
        "from keras.models import load_model\n",
        "model.save('model_vgg19.h5')"
      ],
      "metadata": {
        "id": "oxKFcmcxPqbH"
      },
      "execution_count": null,
      "outputs": []
    }
  ]
}