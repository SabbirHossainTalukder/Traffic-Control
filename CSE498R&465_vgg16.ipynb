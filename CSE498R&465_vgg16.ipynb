{
  "nbformat": 4,
  "nbformat_minor": 0,
  "metadata": {
    "colab": {
      "name": "CSE498R&465_vgg16.ipynb",
      "provenance": [],
      "collapsed_sections": []
    },
    "kernelspec": {
      "name": "python3",
      "display_name": "Python 3"
    },
    "language_info": {
      "name": "python"
    },
    "accelerator": "GPU"
  },
  "cells": [
    {
      "cell_type": "markdown",
      "source": [
        "#***Data Processing***"
      ],
      "metadata": {
        "id": "nBlRyht0WwRy"
      }
    },
    {
      "cell_type": "code",
      "execution_count": 2,
      "metadata": {
        "id": "dKKB6mTYWYlz"
      },
      "outputs": [],
      "source": [
        "import numpy as np\n",
        "import pandas as pd\n",
        "import os\n",
        "import glob\n",
        "import random\n",
        "from PIL import Image"
      ]
    },
    {
      "cell_type": "code",
      "source": [
        "from google.colab import drive\n",
        "drive.mount('/content/drive',force_remount=True)"
      ],
      "metadata": {
        "colab": {
          "base_uri": "https://localhost:8080/"
        },
        "id": "LZwXbnweWlnk",
        "outputId": "db0514b6-1a07-49f2-8ee4-4d9816f1a6df"
      },
      "execution_count": 3,
      "outputs": [
        {
          "output_type": "stream",
          "name": "stdout",
          "text": [
            "Mounted at /content/drive\n"
          ]
        }
      ]
    },
    {
      "cell_type": "code",
      "source": [
        "vehicle_data_path = \"/content/drive/MyDrive/NativeCarDataset\"\n",
        "os.listdir(vehicle_data_path)"
      ],
      "metadata": {
        "colab": {
          "base_uri": "https://localhost:8080/"
        },
        "id": "85h87yy1WuTl",
        "outputId": "c0d17dde-2f5a-4f69-a145-c19da3b56265"
      },
      "execution_count": 4,
      "outputs": [
        {
          "output_type": "execute_result",
          "data": {
            "text/plain": [
              "['test', 'train']"
            ]
          },
          "metadata": {},
          "execution_count": 4
        }
      ]
    },
    {
      "cell_type": "code",
      "source": [
        "paths_train=glob.glob(os.path.join(vehicle_data_path,'train/*/*','*.jpg'))\n",
        "paths_train_xml=glob.glob(os.path.join(vehicle_data_path,'train/*/*','*.xml'))\n",
        "\n",
        "paths_test=glob.glob(os.path.join(vehicle_data_path,'test/*/*','*.jpg'))\n",
        "paths_test_xml=glob.glob(os.path.join(vehicle_data_path,'test/*/*','*.xml'))\n",
        "\n",
        "len(paths_train), len(paths_train_xml), len(paths_test),len(paths_test_xml)"
      ],
      "metadata": {
        "colab": {
          "base_uri": "https://localhost:8080/"
        },
        "id": "OVlw2FTDW5H6",
        "outputId": "0b5c5c8b-e474-4e85-c4a8-6bc5155a99cb"
      },
      "execution_count": 5,
      "outputs": [
        {
          "output_type": "execute_result",
          "data": {
            "text/plain": [
              "(5863, 5874, 1471, 1476)"
            ]
          },
          "metadata": {},
          "execution_count": 5
        }
      ]
    },
    {
      "cell_type": "markdown",
      "source": [
        "#***Image Classification***"
      ],
      "metadata": {
        "id": "kEc7gbhbX4L1"
      }
    },
    {
      "cell_type": "code",
      "source": [
        "import tensorflow as tf\n",
        "from keras.models import Model\n",
        "from keras.applications.vgg16 import VGG16\n",
        "from keras.applications.vgg16 import preprocess_input\n",
        "from keras.preprocessing import image\n",
        "from keras.preprocessing.image import ImageDataGenerator\n",
        "from keras.models import Sequential\n",
        "import cv2\n",
        "import matplotlib.pyplot as plt\n",
        "from keras.layers import Input, Lambda, Dense, Flatten"
      ],
      "metadata": {
        "id": "LaufpIdAX1QG"
      },
      "execution_count": 6,
      "outputs": []
    },
    {
      "cell_type": "code",
      "source": [
        "IMAGE_SIZE = [224, 224]"
      ],
      "metadata": {
        "id": "iClIvpsHYES1"
      },
      "execution_count": 7,
      "outputs": []
    },
    {
      "cell_type": "code",
      "source": [
        "vgg = VGG16(input_shape=IMAGE_SIZE +[3], weights='imagenet', include_top=False)"
      ],
      "metadata": {
        "colab": {
          "base_uri": "https://localhost:8080/"
        },
        "id": "lPl6oRb6YG-3",
        "outputId": "803af9a3-1c49-47be-d66e-8f1e69382c77"
      },
      "execution_count": 8,
      "outputs": [
        {
          "output_type": "stream",
          "name": "stdout",
          "text": [
            "Downloading data from https://storage.googleapis.com/tensorflow/keras-applications/vgg16/vgg16_weights_tf_dim_ordering_tf_kernels_notop.h5\n",
            "58892288/58889256 [==============================] - 1s 0us/step\n",
            "58900480/58889256 [==============================] - 1s 0us/step\n"
          ]
        }
      ]
    },
    {
      "cell_type": "code",
      "source": [
        "for layer in vgg.layers:\n",
        "    layer.trainable=False"
      ],
      "metadata": {
        "id": "IbkeZlu2YJvz"
      },
      "execution_count": 9,
      "outputs": []
    },
    {
      "cell_type": "code",
      "source": [
        "folders = glob.glob(os.path.join(vehicle_data_path,'train/*'))"
      ],
      "metadata": {
        "id": "eqj1m5EyYQP1"
      },
      "execution_count": 10,
      "outputs": []
    },
    {
      "cell_type": "code",
      "source": [
        "x= Flatten()(vgg.output)\n",
        "x= Dense(64, activation= 'relu')(x)\n",
        "prediction = Dense(len(folders), activation='softmax')(x)"
      ],
      "metadata": {
        "id": "G6pkUqvzYTDt"
      },
      "execution_count": 11,
      "outputs": []
    },
    {
      "cell_type": "code",
      "source": [
        "model = Model(inputs=vgg.input, outputs=prediction)"
      ],
      "metadata": {
        "id": "iz4sr73yYhhS"
      },
      "execution_count": 12,
      "outputs": []
    },
    {
      "cell_type": "code",
      "source": [
        "model.summary()"
      ],
      "metadata": {
        "id": "Ewmyf7y1Yl2G",
        "colab": {
          "base_uri": "https://localhost:8080/"
        },
        "outputId": "792604df-cd62-4715-deb6-8b2fbc9a93cc"
      },
      "execution_count": 13,
      "outputs": [
        {
          "output_type": "stream",
          "name": "stdout",
          "text": [
            "Model: \"model\"\n",
            "_________________________________________________________________\n",
            " Layer (type)                Output Shape              Param #   \n",
            "=================================================================\n",
            " input_1 (InputLayer)        [(None, 224, 224, 3)]     0         \n",
            "                                                                 \n",
            " block1_conv1 (Conv2D)       (None, 224, 224, 64)      1792      \n",
            "                                                                 \n",
            " block1_conv2 (Conv2D)       (None, 224, 224, 64)      36928     \n",
            "                                                                 \n",
            " block1_pool (MaxPooling2D)  (None, 112, 112, 64)      0         \n",
            "                                                                 \n",
            " block2_conv1 (Conv2D)       (None, 112, 112, 128)     73856     \n",
            "                                                                 \n",
            " block2_conv2 (Conv2D)       (None, 112, 112, 128)     147584    \n",
            "                                                                 \n",
            " block2_pool (MaxPooling2D)  (None, 56, 56, 128)       0         \n",
            "                                                                 \n",
            " block3_conv1 (Conv2D)       (None, 56, 56, 256)       295168    \n",
            "                                                                 \n",
            " block3_conv2 (Conv2D)       (None, 56, 56, 256)       590080    \n",
            "                                                                 \n",
            " block3_conv3 (Conv2D)       (None, 56, 56, 256)       590080    \n",
            "                                                                 \n",
            " block3_pool (MaxPooling2D)  (None, 28, 28, 256)       0         \n",
            "                                                                 \n",
            " block4_conv1 (Conv2D)       (None, 28, 28, 512)       1180160   \n",
            "                                                                 \n",
            " block4_conv2 (Conv2D)       (None, 28, 28, 512)       2359808   \n",
            "                                                                 \n",
            " block4_conv3 (Conv2D)       (None, 28, 28, 512)       2359808   \n",
            "                                                                 \n",
            " block4_pool (MaxPooling2D)  (None, 14, 14, 512)       0         \n",
            "                                                                 \n",
            " block5_conv1 (Conv2D)       (None, 14, 14, 512)       2359808   \n",
            "                                                                 \n",
            " block5_conv2 (Conv2D)       (None, 14, 14, 512)       2359808   \n",
            "                                                                 \n",
            " block5_conv3 (Conv2D)       (None, 14, 14, 512)       2359808   \n",
            "                                                                 \n",
            " block5_pool (MaxPooling2D)  (None, 7, 7, 512)         0         \n",
            "                                                                 \n",
            " flatten (Flatten)           (None, 25088)             0         \n",
            "                                                                 \n",
            " dense (Dense)               (None, 64)                1605696   \n",
            "                                                                 \n",
            " dense_1 (Dense)             (None, 13)                845       \n",
            "                                                                 \n",
            "=================================================================\n",
            "Total params: 16,321,229\n",
            "Trainable params: 1,606,541\n",
            "Non-trainable params: 14,714,688\n",
            "_________________________________________________________________\n"
          ]
        }
      ]
    },
    {
      "cell_type": "code",
      "source": [
        "model.compile(\n",
        "    loss='categorical_crossentropy',\n",
        "    optimizer='adam',\n",
        "    metrics=['accuracy']\n",
        ")"
      ],
      "metadata": {
        "id": "d6TO1M3bYowY"
      },
      "execution_count": 14,
      "outputs": []
    },
    {
      "cell_type": "code",
      "source": [
        "from keras.preprocessing.image import ImageDataGenerator\n",
        "train_datagen =ImageDataGenerator(rescale = 1./255,\n",
        "                                 shear_range = 0.2,\n",
        "                                 zoom_range = 0.2,\n",
        "                                 horizontal_flip = True)\n",
        "test_datagen = ImageDataGenerator(rescale = 1./255)\n",
        "training_set = train_datagen.flow_from_directory('/content/drive/MyDrive/NativeCarDataset/train',\n",
        "                                                target_size=IMAGE_SIZE,\n",
        "                                                batch_size= 64,\n",
        "                                                class_mode='categorical')\n",
        "test_set = test_datagen.flow_from_directory('/content/drive/MyDrive/NativeCarDataset/test',\n",
        "                                           target_size= IMAGE_SIZE,\n",
        "                                           batch_size = 64,\n",
        "                                           class_mode = 'categorical')"
      ],
      "metadata": {
        "id": "YepBhKmAYsaC",
        "colab": {
          "base_uri": "https://localhost:8080/"
        },
        "outputId": "3d7c3247-99e7-4f17-d991-142b95e194f2"
      },
      "execution_count": 15,
      "outputs": [
        {
          "output_type": "stream",
          "name": "stdout",
          "text": [
            "Found 5868 images belonging to 13 classes.\n",
            "Found 1474 images belonging to 13 classes.\n"
          ]
        }
      ]
    },
    {
      "cell_type": "code",
      "source": [
        "len(training_set), len(test_set)"
      ],
      "metadata": {
        "id": "O2LZ1GKFYyUw",
        "colab": {
          "base_uri": "https://localhost:8080/"
        },
        "outputId": "673803bd-cbea-4ee9-fc3c-d7642364e7f1"
      },
      "execution_count": 16,
      "outputs": [
        {
          "output_type": "execute_result",
          "data": {
            "text/plain": [
              "(92, 24)"
            ]
          },
          "metadata": {},
          "execution_count": 16
        }
      ]
    },
    {
      "cell_type": "code",
      "source": [
        "device_list = tf.test.gpu_device_name()\n",
        "device_list"
      ],
      "metadata": {
        "id": "tiW_wj8SY0wn",
        "colab": {
          "base_uri": "https://localhost:8080/",
          "height": 37
        },
        "outputId": "359779ae-8a36-4307-8961-6a42cc4527d9"
      },
      "execution_count": 17,
      "outputs": [
        {
          "output_type": "execute_result",
          "data": {
            "application/vnd.google.colaboratory.intrinsic+json": {
              "type": "string"
            },
            "text/plain": [
              "'/device:GPU:0'"
            ]
          },
          "metadata": {},
          "execution_count": 17
        }
      ]
    },
    {
      "cell_type": "code",
      "source": [
        "from keras.preprocessing.image import ImageDataGenerator\n",
        "import tensorflow as tf\n",
        "r = model.fit_generator(\n",
        "  training_set,\n",
        "  validation_data=test_set,\n",
        "  epochs=30,\n",
        "  steps_per_epoch=len(training_set)/2,\n",
        "  validation_steps=len(test_set)\n",
        ")"
      ],
      "metadata": {
        "id": "dX4M_NpZY5dA",
        "colab": {
          "base_uri": "https://localhost:8080/"
        },
        "outputId": "874e2365-e50f-4113-d8ef-cdf80debcef2"
      },
      "execution_count": 18,
      "outputs": [
        {
          "metadata": {
            "tags": null
          },
          "name": "stderr",
          "output_type": "stream",
          "text": [
            "/usr/local/lib/python3.7/dist-packages/ipykernel_launcher.py:8: UserWarning: `Model.fit_generator` is deprecated and will be removed in a future version. Please use `Model.fit`, which supports generators.\n",
            "  \n"
          ]
        },
        {
          "output_type": "stream",
          "name": "stdout",
          "text": [
            "Epoch 1/30\n",
            "46/46 [==============================] - 3060s 66s/step - loss: 2.2248 - accuracy: 0.3043 - val_loss: 1.9002 - val_accuracy: 0.3826\n",
            "Epoch 2/30\n",
            "46/46 [==============================] - 1295s 28s/step - loss: 1.7790 - accuracy: 0.4073 - val_loss: 1.6659 - val_accuracy: 0.4552\n",
            "Epoch 3/30\n",
            "46/46 [==============================] - 900s 20s/step - loss: 1.5237 - accuracy: 0.5078 - val_loss: 1.4366 - val_accuracy: 0.5407\n",
            "Epoch 4/30\n",
            "46/46 [==============================] - 669s 15s/step - loss: 1.3094 - accuracy: 0.5730 - val_loss: 1.3031 - val_accuracy: 0.5760\n",
            "Epoch 5/30\n",
            "46/46 [==============================] - 588s 13s/step - loss: 1.1882 - accuracy: 0.6012 - val_loss: 1.2365 - val_accuracy: 0.5841\n",
            "Epoch 6/30\n",
            "46/46 [==============================] - 545s 12s/step - loss: 1.0735 - accuracy: 0.6409 - val_loss: 1.2548 - val_accuracy: 0.5936\n",
            "Epoch 7/30\n",
            "46/46 [==============================] - 511s 11s/step - loss: 1.0020 - accuracy: 0.6669 - val_loss: 1.0835 - val_accuracy: 0.6526\n",
            "Epoch 8/30\n",
            "46/46 [==============================] - 485s 11s/step - loss: 0.9273 - accuracy: 0.6878 - val_loss: 1.0371 - val_accuracy: 0.6533\n",
            "Epoch 9/30\n",
            "46/46 [==============================] - 493s 11s/step - loss: 0.8774 - accuracy: 0.7041 - val_loss: 1.0029 - val_accuracy: 0.6703\n",
            "Epoch 10/30\n",
            "46/46 [==============================] - 486s 11s/step - loss: 0.8199 - accuracy: 0.7215 - val_loss: 0.9846 - val_accuracy: 0.6750\n",
            "Epoch 11/30\n",
            "46/46 [==============================] - 482s 11s/step - loss: 0.7776 - accuracy: 0.7421 - val_loss: 0.9830 - val_accuracy: 0.6825\n",
            "Epoch 12/30\n",
            "46/46 [==============================] - 484s 11s/step - loss: 0.7546 - accuracy: 0.7439 - val_loss: 0.9564 - val_accuracy: 0.6934\n",
            "Epoch 13/30\n",
            "46/46 [==============================] - 489s 11s/step - loss: 0.7429 - accuracy: 0.7520 - val_loss: 0.9159 - val_accuracy: 0.7001\n",
            "Epoch 14/30\n",
            "46/46 [==============================] - 483s 11s/step - loss: 0.6857 - accuracy: 0.7694 - val_loss: 0.9058 - val_accuracy: 0.6954\n",
            "Epoch 15/30\n",
            "46/46 [==============================] - 481s 11s/step - loss: 0.6790 - accuracy: 0.7821 - val_loss: 0.8952 - val_accuracy: 0.7076\n",
            "Epoch 16/30\n",
            "46/46 [==============================] - 485s 11s/step - loss: 0.6439 - accuracy: 0.7815 - val_loss: 0.9361 - val_accuracy: 0.6995\n",
            "Epoch 17/30\n",
            "46/46 [==============================] - 478s 10s/step - loss: 0.6048 - accuracy: 0.8006 - val_loss: 0.8720 - val_accuracy: 0.7205\n",
            "Epoch 18/30\n",
            "46/46 [==============================] - 475s 10s/step - loss: 0.5827 - accuracy: 0.8183 - val_loss: 0.8141 - val_accuracy: 0.7415\n",
            "Epoch 19/30\n",
            "46/46 [==============================] - 478s 10s/step - loss: 0.5498 - accuracy: 0.8291 - val_loss: 0.8463 - val_accuracy: 0.7273\n",
            "Epoch 20/30\n",
            "46/46 [==============================] - 469s 10s/step - loss: 0.5330 - accuracy: 0.8329 - val_loss: 0.8494 - val_accuracy: 0.7388\n",
            "Epoch 21/30\n",
            "46/46 [==============================] - 473s 10s/step - loss: 0.5100 - accuracy: 0.8359 - val_loss: 0.8666 - val_accuracy: 0.7198\n",
            "Epoch 22/30\n",
            "46/46 [==============================] - 476s 10s/step - loss: 0.5001 - accuracy: 0.8423 - val_loss: 0.8446 - val_accuracy: 0.7361\n",
            "Epoch 23/30\n",
            "46/46 [==============================] - 484s 11s/step - loss: 0.4997 - accuracy: 0.8341 - val_loss: 0.8447 - val_accuracy: 0.7286\n",
            "Epoch 24/30\n",
            "46/46 [==============================] - 484s 11s/step - loss: 0.4698 - accuracy: 0.8471 - val_loss: 0.8192 - val_accuracy: 0.7415\n",
            "Epoch 25/30\n",
            "46/46 [==============================] - 488s 11s/step - loss: 0.4655 - accuracy: 0.8427 - val_loss: 0.8137 - val_accuracy: 0.7422\n",
            "Epoch 26/30\n",
            "46/46 [==============================] - 476s 10s/step - loss: 0.4512 - accuracy: 0.8516 - val_loss: 0.8208 - val_accuracy: 0.7442\n",
            "Epoch 27/30\n",
            "46/46 [==============================] - 484s 11s/step - loss: 0.4306 - accuracy: 0.8679 - val_loss: 0.8410 - val_accuracy: 0.7368\n",
            "Epoch 28/30\n",
            "46/46 [==============================] - 474s 10s/step - loss: 0.4004 - accuracy: 0.8767 - val_loss: 0.7872 - val_accuracy: 0.7598\n",
            "Epoch 29/30\n",
            "46/46 [==============================] - 478s 10s/step - loss: 0.3924 - accuracy: 0.8811 - val_loss: 0.7795 - val_accuracy: 0.7592\n",
            "Epoch 30/30\n",
            "46/46 [==============================] - 479s 10s/step - loss: 0.3985 - accuracy: 0.8726 - val_loss: 0.7853 - val_accuracy: 0.7490\n"
          ]
        }
      ]
    },
    {
      "cell_type": "code",
      "source": [
        "plt.plot(r.history['loss'], label='train loss')\n",
        "plt.plot(r.history['val_loss'], label='val loss')\n",
        "plt.legend()\n",
        "plt.show()\n",
        "plt.savefig('LossVal_loss')\n",
        "\n",
        "plt.plot(r.history['accuracy'], label='train accuracy')\n",
        "plt.plot(r.history['val_accuracy'], label='val accuracy')\n",
        "plt.legend()\n",
        "plt.show()\n",
        "plt.savefig('AccVal_acc')"
      ],
      "metadata": {
        "id": "f-v6jAABY89I",
        "colab": {
          "base_uri": "https://localhost:8080/",
          "height": 534
        },
        "outputId": "0abf3647-8f41-42ee-df5e-0ab686cf763e"
      },
      "execution_count": 19,
      "outputs": [
        {
          "output_type": "display_data",
          "data": {
            "image/png": "[encoded data removed]",
            "text/plain": [
              "<Figure size 432x288 with 1 Axes>"
            ]
          },
          "metadata": {
            "needs_background": "light"
          }
        },
        {
          "output_type": "display_data",
          "data": {
            "image/png": "[encoded data removed]",
            "text/plain": [
              "<Figure size 432x288 with 1 Axes>"
            ]
          },
          "metadata": {
            "needs_background": "light"
          }
        },
        {
          "output_type": "display_data",
          "data": {
            "text/plain": [
              "<Figure size 432x288 with 0 Axes>"
            ]
          },
          "metadata": {}
        }
      ]
    },
    {
      "cell_type": "code",
      "source": [
        "import tensorflow as tf \n",
        "from keras.models import load_model\n",
        "model.save('model_vgg16.h6')"
      ],
      "metadata": {
        "colab": {
          "base_uri": "https://localhost:8080/"
        },
        "id": "oxKFcmcxPqbH",
        "outputId": "cfbe138f-b98d-4a74-dff6-6e5383a86ba6"
      },
      "execution_count": 20,
      "outputs": [
        {
          "output_type": "stream",
          "name": "stdout",
          "text": [
            "INFO:tensorflow:Assets written to: model_vgg16.h6/assets\n"
          ]
        }
      ]
    }
  ]
}